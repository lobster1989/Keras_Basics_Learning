{
 "cells": [
  {
   "cell_type": "code",
   "execution_count": 1,
   "id": "958499c3",
   "metadata": {},
   "outputs": [],
   "source": [
    "import numpy as np\n",
    "import matplotlib.pyplot as plt\n",
    "import torch"
   ]
  },
  {
   "cell_type": "code",
   "execution_count": 2,
   "id": "afbebc7f",
   "metadata": {},
   "outputs": [],
   "source": [
    "# create training &test data\n",
    "x_train = np.random.rand(1000)\n",
    "x_test = np.random.rand(200)\n",
    "y_train = x_train*5 + 3\n",
    "y_test = x_test*5 + 3\n",
    "\n",
    "# create tensors from numpy arrays\n",
    "x_train = torch.from_numpy(x_train)\n",
    "x_test = torch.from_numpy(x_test)\n",
    "y_train = torch.from_numpy(y_train)\n",
    "y_test = torch.from_numpy(y_test)"
   ]
  },
  {
   "cell_type": "code",
   "execution_count": 3,
   "id": "005d914e",
   "metadata": {},
   "outputs": [],
   "source": [
    "# Define model functions\n",
    "def my_model(w,b,x):\n",
    "    y_h = w*x + b\n",
    "    return y_h\n",
    "\n",
    "def loss_fn(y_h,y):\n",
    "    loss = ((y_h - y)**2).mean()\n",
    "    return loss\n",
    "\n",
    "def get_grad(x,y,y_h):\n",
    "    dw = (2*(y_h - y)*x).mean()\n",
    "    db = 2*(y_h - y).mean()\n",
    "    return (dw, db)"
   ]
  },
  {
   "cell_type": "code",
   "execution_count": 4,
   "id": "07a19145",
   "metadata": {
    "scrolled": true
   },
   "outputs": [
    {
     "name": "stdout",
     "output_type": "stream",
     "text": [
      "Initial weights:w=0.5802379846572876,b=-0.855524480342865\n"
     ]
    }
   ],
   "source": [
    "# initialize weights\n",
    "w = torch.randn(1,requires_grad=True)\n",
    "b = torch.randn(1,requires_grad=True)\n",
    "print(\"Initial weights:w={},b={}\".format(w.item(),b.item()))"
   ]
  },
  {
   "cell_type": "code",
   "execution_count": 5,
   "id": "9c8a8d20",
   "metadata": {},
   "outputs": [
    {
     "name": "stdout",
     "output_type": "stream",
     "text": [
      "grad by autograd: dw=-6.876355171203613,db=-12.176223754882812\n",
      "grad by hand-calc: dw=-6.876355031571589,db=-12.176223665704123\n"
     ]
    }
   ],
   "source": [
    "# try once: compare auto-grad with hand-calculate results\n",
    "y_h = my_model(w,b,x_train)\n",
    "loss = loss_fn(y_h,y_train)\n",
    "\n",
    "loss.backward()\n",
    "print('grad by autograd: dw={},db={}'.format(w.grad.item(), b.grad.item()))\n",
    "\n",
    "with torch.no_grad():\n",
    "    dw,db = get_grad(x_train,y_train,y_h)\n",
    "    print('grad by hand-calc: dw={},db={}'.format(dw.item(), db.item()))\n",
    "\n",
    "# clear grads because grads will add up by default\n",
    "w.grad = torch.zeros_like(w.grad)\n",
    "b.grad = torch.zeros_like(b.grad)"
   ]
  },
  {
   "cell_type": "code",
   "execution_count": 6,
   "id": "0dc48ef4",
   "metadata": {},
   "outputs": [
    {
     "name": "stdout",
     "output_type": "stream",
     "text": [
      "Trained weights:w=tensor([4.5022], requires_grad=True),b=tensor([3.2688], requires_grad=True)\n"
     ]
    }
   ],
   "source": [
    "# store loss and val_loss for plotting\n",
    "loss_values = []\n",
    "val_loss_values = []\n",
    "\n",
    "optimizer = torch.optim.SGD((w,b), lr=0.01)\n",
    "\n",
    "# Training loop\n",
    "for i in range(1000):\n",
    "    y_h = my_model(w,b,x_train)\n",
    "    loss = loss_fn(y_h,y_train)\n",
    "    \n",
    "    optimizer.zero_grad()\n",
    "    loss.backward(retain_graph=True)\n",
    "    optimizer.step()\n",
    "    \n",
    "    with torch.no_grad():\n",
    "        # store loss values\n",
    "        if i%5 == 0:\n",
    "            val_y_h = my_model(w,b, x_test)\n",
    "            val_loss = loss_fn(val_y_h, y_test)\n",
    "            loss_values.append(loss)\n",
    "            val_loss_values.append(val_loss)\n",
    "\n",
    "print(\"Trained weights:w={},b={}\".format(w,b))"
   ]
  },
  {
   "cell_type": "code",
   "execution_count": 7,
   "id": "c650bd9c",
   "metadata": {},
   "outputs": [
    {
     "data": {
      "image/png": "[encoded data removed]",
      "text/plain": [
       "<Figure size 864x216 with 1 Axes>"
      ]
     },
     "metadata": {
      "needs_background": "light"
     },
     "output_type": "display_data"
    }
   ],
   "source": [
    "# plot learning curve\n",
    "plt.figure(figsize = (12,3))\n",
    "plt.plot(loss_values, 'bo', label='Training loss')\n",
    "plt.plot(val_loss_values, 'r', label='Validation loss')\n",
    "plt.title(\"Training and validation loss\")\n",
    "plt.xlabel('Epochs')\n",
    "plt.ylabel('Loss')\n",
    "plt.show()"
   ]
  },
  {
   "cell_type": "code",
   "execution_count": null,
   "id": "bc8541fe",
   "metadata": {},
   "outputs": [],
   "source": []
  }
 ],
 "metadata": {
  "kernelspec": {
   "display_name": "Python 3",
   "language": "python",
   "name": "python3"
  },
  "language_info": {
   "codemirror_mode": {
    "name": "ipython",
    "version": 3
   },
   "file_extension": ".py",
   "mimetype": "text/x-python",
   "name": "python",
   "nbconvert_exporter": "python",
   "pygments_lexer": "ipython3",
   "version": "3.8.8"
  }
 },
 "nbformat": 4,
 "nbformat_minor": 5
}
