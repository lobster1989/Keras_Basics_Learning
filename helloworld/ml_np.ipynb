{
 "cells": [
  {
   "cell_type": "code",
   "execution_count": 1,
   "id": "958499c3",
   "metadata": {},
   "outputs": [],
   "source": [
    "import numpy as np\n",
    "import matplotlib.pyplot as plt"
   ]
  },
  {
   "cell_type": "code",
   "execution_count": 2,
   "id": "afbebc7f",
   "metadata": {},
   "outputs": [],
   "source": [
    "# create training &test data\n",
    "x_train = np.random.rand(1000)\n",
    "x_test = np.random.rand(200)\n",
    "y_train = x_train*5 + 3\n",
    "y_test = x_test*5 + 3"
   ]
  },
  {
   "cell_type": "code",
   "execution_count": 25,
   "id": "005d914e",
   "metadata": {},
   "outputs": [],
   "source": [
    "# Define model functions\n",
    "def my_model(w,b,x):\n",
    "    y_h = w*x + b\n",
    "    return y_h\n",
    "\n",
    "def loss_fn(y_h,y):\n",
    "    loss = ((y_h - y)**2).mean()\n",
    "    return loss\n",
    "\n",
    "def get_grad(x,y,y_h):\n",
    "    dw = (2*(y_h - y)*x).mean()\n",
    "    db = 2*(y_h - y).mean()\n",
    "    return (dw, db)"
   ]
  },
  {
   "cell_type": "code",
   "execution_count": 93,
   "id": "0dc48ef4",
   "metadata": {},
   "outputs": [
    {
     "name": "stdout",
     "output_type": "stream",
     "text": [
      "Initial weights:w=1.0,b=1.0\n",
      "Trained weights:w=4.91543457354575,b=3.045764011654811\n"
     ]
    }
   ],
   "source": [
    "# initialize weights\n",
    "w = np.ones(())\n",
    "b = np.ones(())\n",
    "print(\"Initial weights:w={},b={}\".format(w,b))\n",
    "\n",
    "# Learning rate\n",
    "lr = 0.05\n",
    "      \n",
    "loss_values = []\n",
    "val_loss_values = []\n",
    "\n",
    "# Training loop\n",
    "for i in range(500):\n",
    "    y_h = my_model(w,b,x_train)\n",
    "    loss = loss_fn(y_h,y_train)\n",
    "    dw,db = get_grad(x_train,y_train,y_h)\n",
    "    \n",
    "    # update weights with gradient decent\n",
    "    w = w - lr*dw\n",
    "    b = b - lr*db\n",
    "    \n",
    "    # store loss values\n",
    "    if i%5 == 0:\n",
    "        val_y_h = my_model(w,b, x_test)\n",
    "        val_loss = loss_fn(val_y_h, y_test)\n",
    "        loss_values.append(loss)\n",
    "        val_loss_values.append(val_loss)\n",
    "\n",
    "print(\"Trained weights:w={},b={}\".format(w,b))"
   ]
  },
  {
   "cell_type": "code",
   "execution_count": 94,
   "id": "c650bd9c",
   "metadata": {},
   "outputs": [
    {
     "data": {
      "image/png": "[encoded data removed]",
      "text/plain": [
       "<Figure size 864x216 with 1 Axes>"
      ]
     },
     "metadata": {
      "needs_background": "light"
     },
     "output_type": "display_data"
    }
   ],
   "source": [
    "# plot learning curve\n",
    "plt.figure(figsize = (12,3))\n",
    "plt.plot(loss_values, 'bo', label='Training loss')\n",
    "plt.plot(val_loss_values, 'r', label='Validation loss')\n",
    "plt.title(\"Training and validation loss\")\n",
    "plt.xlabel('Epochs')\n",
    "plt.ylabel('Loss')\n",
    "plt.show()"
   ]
  },
  {
   "cell_type": "code",
   "execution_count": null,
   "id": "bc8541fe",
   "metadata": {},
   "outputs": [],
   "source": []
  }
 ],
 "metadata": {
  "kernelspec": {
   "display_name": "Python 3",
   "language": "python",
   "name": "python3"
  },
  "language_info": {
   "codemirror_mode": {
    "name": "ipython",
    "version": 3
   },
   "file_extension": ".py",
   "mimetype": "text/x-python",
   "name": "python",
   "nbconvert_exporter": "python",
   "pygments_lexer": "ipython3",
   "version": "3.8.8"
  }
 },
 "nbformat": 4,
 "nbformat_minor": 5
}
